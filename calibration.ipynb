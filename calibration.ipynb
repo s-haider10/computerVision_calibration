{
 "cells": [
  {
   "cell_type": "markdown",
   "metadata": {},
   "source": [
    "# TP1: Camera Calibration"
   ]
  },
  {
   "cell_type": "markdown",
   "metadata": {},
   "source": [
    "Read, understand, and complete the following notebook. You must return the completed notebook, including your answers and illustrations (you may need to add cells to write your code or comments). \n",
    "\n",
    "Upload it the brightspace under Assignment -> Homework 1 section using a single file (ipynb or zip) with the format `NetID_TP1.ipynb`\n",
    "\n",
    "To execute the notebook, you will need to [install jupyter](http://jupyter.org/install.html). If you cannot/don't want to use notebooks, you can return both your python code and a report in pdf.\n",
    "\n",
    "\n",
    "**This practical is an introduction to camera calibration. Please refer to the course (slides / course recap) for the formulas and theory needed.**"
   ]
  },
  {
   "cell_type": "markdown",
   "metadata": {},
   "source": [
    "## Imports"
   ]
  },
  {
   "cell_type": "code",
   "execution_count": 130,
   "metadata": {},
   "outputs": [],
   "source": [
    "# See TP1 for information about those imports\n",
    "import numpy as np \n",
    "import matplotlib.pyplot as plt \n",
    "import scipy.ndimage as ndimage\n",
    "plt.rcParams['image.cmap'] = 'gray' \n",
    "\n",
    "# Useful for loading mat files\n",
    "import scipy.io as sio\n",
    "\n",
    "# Useful for optimization\n",
    "import scipy.optimize as optimize"
   ]
  },
  {
   "cell_type": "markdown",
   "metadata": {},
   "source": [
    "Download the [data](http://imagine.enpc.fr/~aubrym/lectures/introvis17/clean_points.mat ). Load the data:"
   ]
  },
  {
   "cell_type": "code",
   "execution_count": 131,
   "metadata": {},
   "outputs": [],
   "source": [
    "data = sio.loadmat('clean_points.mat')\n",
    "pts2d = data['pts2d']\n",
    "pts3d = data['pts3d']"
   ]
  },
  {
   "cell_type": "markdown",
   "metadata": {},
   "source": [
    "`pts2d` and `pts3d` are two vector of corresponding points in the image and in 3D. We will use these correspondences to calibrate the camera."
   ]
  },
  {
   "cell_type": "code",
   "execution_count": null,
   "metadata": {},
   "outputs": [],
   "source": [
    "# data"
   ]
  },
  {
   "cell_type": "markdown",
   "metadata": {},
   "source": [
    "## 1. Linear Method [50]"
   ]
  },
  {
   "cell_type": "markdown",
   "metadata": {},
   "source": [
    "We first try to perform camera calibration using the linear method. From the lecture, we know that it ideally solves an equation ($\\mathbf 0$ being a vector, and $\\mathbf p$ a vector representation of the camera matrix)\n",
    "\n",
    "$$A \\mathbf p = \\mathbf 0$$\n",
    "\n",
    "**1.** Build the matrix `A` that defines this calibration equation. What are its dimensions?[10]"
   ]
  },
  {
   "cell_type": "code",
   "execution_count": 132,
   "metadata": {},
   "outputs": [
    {
     "data": {
      "text/plain": [
       "array([[-1.50000000e+01, -1.50000000e+01, -0.00000000e+00, ...,\n",
       "         5.99774034e+03,  0.00000000e+00,  3.99849356e+02],\n",
       "       [ 0.00000000e+00,  0.00000000e+00,  0.00000000e+00, ...,\n",
       "         8.15526102e+03,  0.00000000e+00,  5.43684068e+02],\n",
       "       [-3.00000000e+01, -1.50000000e+01, -0.00000000e+00, ...,\n",
       "         6.46527478e+03,  0.00000000e+00,  4.31018319e+02],\n",
       "       ...,\n",
       "       [ 0.00000000e+00,  0.00000000e+00,  0.00000000e+00, ...,\n",
       "         2.89928473e+04,  3.09284100e+04,  1.28865690e+02],\n",
       "       [-6.93069463e-02, -2.39985000e+02, -2.40005000e+02, ...,\n",
       "         1.67652736e+04,  1.67666708e+04,  6.98596729e+01],\n",
       "       [ 0.00000000e+00,  0.00000000e+00,  0.00000000e+00, ...,\n",
       "         2.48107551e+04,  2.48128228e+04,  1.03384608e+02]])"
      ]
     },
     "execution_count": 132,
     "metadata": {},
     "output_type": "execute_result"
    }
   ],
   "source": [
    "def build_matrix_A(pts2d, pts3d):\n",
    "    assert len(pts2d) == len(pts3d)\n",
    "    N = len(pts2d)\n",
    "    A = np.zeros((2*N, 12))\n",
    "\n",
    "    for i in range(N):\n",
    "        X, Y, Z = pts3d[i]\n",
    "        x, y = pts2d[i]\n",
    "        A[2*i] =[-X, -Y, -Z, -1, 0, 0, 0, 0, x*X, x*Y, x*Z, x]\n",
    "        A[2*i + 1] = [0, 0, 0, 0, -X, -Y, -Z, -1, y*X, y*Y, y*Z, y]\n",
    "\n",
    "    return A\n",
    "\n",
    "A = build_matrix_A(pts2d, pts3d)\n",
    "\n",
    "build_matrix_A(pts2d, pts3d)\n",
    "\n",
    "\n",
    "#If we have N correspondences, then A will be a 2N x 12 matrix."
   ]
  },
  {
   "cell_type": "markdown",
   "metadata": {},
   "source": [
    "If we have N correspondences, then Matrix A will be a 2N x 12 matrix."
   ]
  },
  {
   "cell_type": "markdown",
   "metadata": {},
   "source": [
    "**2.a)** Perform SVD (using `np.linalg.svd`) on `A` .[10]<br/>\n",
    "**b)** Check that the SVD is coherent and that one of the singular value is close to $0$ [5].<br/>\n",
    "**c)** Use this SVD to compute the camera matrix `P`[5]."
   ]
  },
  {
   "cell_type": "code",
   "execution_count": 133,
   "metadata": {},
   "outputs": [],
   "source": [
    "U, S, Vt = np.linalg.svd(A)"
   ]
  },
  {
   "cell_type": "code",
   "execution_count": 134,
   "metadata": {},
   "outputs": [],
   "source": [
    "P = Vt[-1].reshape(3, 4)"
   ]
  },
  {
   "cell_type": "code",
   "execution_count": 135,
   "metadata": {},
   "outputs": [
    {
     "name": "stdout",
     "output_type": "stream",
     "text": [
      "Singular values: [2.13102637e+06 9.52434729e+05 6.33491338e+05 4.49948325e+03\n",
      " 3.53812573e+03 2.56383354e+03 1.62349965e+03 7.57454031e+02\n",
      " 7.01455640e+02 3.28737627e+02 6.73260330e+00 4.31611461e-02]\n"
     ]
    }
   ],
   "source": [
    "print('Singular values:', S)"
   ]
  },
  {
   "cell_type": "markdown",
   "metadata": {},
   "source": [
    "4.31611461e-02 is close to zero"
   ]
  },
  {
   "cell_type": "code",
   "execution_count": 136,
   "metadata": {},
   "outputs": [
    {
     "name": "stdout",
     "output_type": "stream",
     "text": [
      "Camera matrix P: [[ 4.53359881e-03  5.65451256e-04 -2.02849590e-03  5.23179344e-01]\n",
      " [ 1.84278426e-03 -4.15975903e-03  1.68779276e-03  8.52192928e-01]\n",
      " [ 3.25683227e-06  1.13804182e-06  3.35237791e-06  1.43209220e-03]]\n"
     ]
    }
   ],
   "source": [
    "print('Camera matrix P:', P)"
   ]
  },
  {
   "cell_type": "markdown",
   "metadata": {},
   "source": [
    "def projection_error(P, pts3d, pts2d):\n",
    "    projected_pts2d = np.dot(P, np.vstack((pts3d, np.ones(pts3d.shape[1]))))\n",
    "    projected_pts2d /= projected_pts2d[2, :]\n",
    "    return np.mean(np.sum((pts2d - projected_pts2d[:2, :])**2, axis=0))\n",
    "**3.** Write a function `projection_error(P, pts3d, pts2d)` that computes the measurement error (Mean Squared Error) between the 3D points projected with a matrix `P`, and the 2D points.[10]"
   ]
  },
  {
   "cell_type": "code",
   "execution_count": 137,
   "metadata": {},
   "outputs": [
    {
     "data": {
      "text/plain": [
       "0.9165269934903467"
      ]
     },
     "execution_count": 137,
     "metadata": {},
     "output_type": "execute_result"
    }
   ],
   "source": [
    "def projection_error(P, pts3d, pts2d):\n",
    "    pts3d_extra_layer = np.hstack((pts3d, np.ones((pts3d.shape[0],1)))) # we need to add elements horizontally\n",
    "    pts_project = np.dot(P, pts3d_extra_layer.T).T #calcualting the dot product\n",
    "    # the 3D points projected with a matrix P ^\n",
    "    normalised = pts_project[:,:2]/pts_project[:,2,np.newaxis]\n",
    "    mse = np.mean(np.sum((normalised-pts2d)**2, axis=1)) # this uses pts2d, and projected 3d points to measure mse\n",
    "    return mse\n",
    "projection_error(P, pts3d, pts2d)"
   ]
  },
  {
   "cell_type": "markdown",
   "metadata": {},
   "source": [
    "**4.** Visualize the projected 3D points and the 2D points on the same figure (use `plt.scatter` with different `marker` options).[10]"
   ]
  },
  {
   "cell_type": "code",
   "execution_count": 138,
   "metadata": {},
   "outputs": [
    {
     "data": {
      "image/png": "[encoded data removed]",
      "text/plain": [
       "<Figure size 432x288 with 1 Axes>"
      ]
     },
     "metadata": {
      "needs_background": "light"
     },
     "output_type": "display_data"
    }
   ],
   "source": [
    "def visualisation(P, pts3d, pts2d):\n",
    "    pts3d_extra_layer = np.hstack((pts3d, np.ones((pts3d.shape[0],1)))) # we need to add elements horizontally\n",
    "    pts_project = np.dot(P, pts3d_extra_layer.T).T #calcualting the dot product\n",
    "    # the 3D points projected with a matrix P ^\n",
    "    normalised = pts_project[:,:2]/pts_project[:,2,np.newaxis]\n",
    "    plt.scatter(pts2d[:,0], pts2d[:,1], c='g', marker='P', label='2D')\n",
    "    plt.scatter(normalised[:,0], normalised[:,1], c='b', marker='1', label='projected 3D')\n",
    "    plt.xlabel('X')\n",
    "    plt.ylabel('Y')\n",
    "    plt.title('projected 3D points and the 2D points on one figure')\n",
    "    plt.legend()\n",
    "    plt.show()\n",
    "#calling the function\n",
    "visualisation(P,pts3d,pts2d)\n",
    "  "
   ]
  },
  {
   "cell_type": "markdown",
   "metadata": {},
   "source": [
    "## 2. Camera parameters[50]\n",
    "\n",
    "We want to extract the parameters of the camera from the matrix `P`, *i.e.*, the internal $(3\\times 3)$ calibration matrix $\\mathcal K$, the external $(3\\times 3)$ rotation matrix $R$ and the $(3\\times 1)$ translation vector $\\mathbf t$ so that:\n",
    "\n",
    "$$P=\\mathcal K [R | \\mathbf t]$$\n",
    "\n",
    "To do so, we are going to use the formulas from the lectures, and the numpy functions (`np.linalg.norm`, `np.linalg.inv`, `np.dot`, `np.cross`...).\n",
    "\n",
    "**5.a)** Write a function `camera_parameters(P, eps=1)` that takes as input the camera matrix `P` and a sign `eps` ($\\varepsilon$, the sign of $\\rho$ in the equations from the lecture), and outputs three values `K`, `R` and `t` that correspond to the intrinsic and extrinsic parameters of the camera.[30] <br/> \n",
    "**b)** Display the results for `eps=1` and check that your values `(K, R, t)` can correctly reconstruct `P`.[10]"
   ]
  },
  {
   "cell_type": "code",
   "execution_count": 270,
   "metadata": {},
   "outputs": [],
   "source": [
    "\n",
    "import numpy as np\n",
    "\n",
    "def camera_parameters(P, eps):\n",
    "    # Decompose the projection matrix into A and b\n",
    "    A = P[:, :3]\n",
    "    b = P[:, 3]\n",
    "\n",
    "    # Compute rho\n",
    "    rho = eps / np.linalg.norm(A[2, :])\n",
    "\n",
    "    # Compute r3\n",
    "    r3 = rho * A[2, :]\n",
    "\n",
    "    # Compute r1 and r2\n",
    "    r1 = np.cross(A[1, :], A[2, :]) / np.linalg.norm(np.cross(A[1, :], A[2, :]))\n",
    "    r2 = np.cross(r3, r1)\n",
    "\n",
    "    # Compute the intrinsic matrix K\n",
    "    K = np.dot(A, np.linalg.inv(np.vstack((r1, r2, r3))))\n",
    "\n",
    "    # Compute the rotation matrix R\n",
    "    R = np.vstack((r1, r2, r3))\n",
    "\n",
    "    # Compute the translation vector t\n",
    "    t =  np.linalg.inv(K) @ b\n",
    "    \n",
    "    # Reconstruct P\n",
    "    recon_P = np.dot(K, np.hstack((R, t.reshape((-1, 1)))))\n",
    "\n",
    "\n",
    "    return K, R, t, recon_P\n"
   ]
  },
  {
   "cell_type": "markdown",
   "metadata": {},
   "source": [
    "**6.** The sign of $\\rho$ is not easy to decide a priori: test your function with both choices of `eps`, and comment on which option makes more sense (is the object in front of the camera?)[10]"
   ]
  },
  {
   "cell_type": "code",
   "execution_count": 271,
   "metadata": {},
   "outputs": [],
   "source": [
    "K1, R1, t1, recon_P = camera_parameters(P, eps=1) # makes more sense and gives positive values\n",
    "# K1, R1, t1, recon_P = camera_parameters(P, eps=-1)"
   ]
  },
  {
   "cell_type": "code",
   "execution_count": 272,
   "metadata": {},
   "outputs": [
    {
     "name": "stdout",
     "output_type": "stream",
     "text": [
      "P: [[ 4.53359881e-03  5.65451256e-04 -2.02849590e-03  5.23179344e-01]\n",
      " [ 1.84278426e-03 -4.15975903e-03  1.68779276e-03  8.52192928e-01]\n",
      " [ 3.25683227e-06  1.13804182e-06  3.35237791e-06  1.43209220e-03]]\n",
      "recon_P: [[ 4.53359881e-03  5.65451256e-04 -2.02849590e-03  5.23179344e-01]\n",
      " [ 1.84278426e-03 -4.15975903e-03  1.68779276e-03  8.52192928e-01]\n",
      " [ 3.25683227e-06  1.13804182e-06  3.35237791e-06  1.43209220e-03]]\n"
     ]
    }
   ],
   "source": [
    "print(\"P:\",P)\n",
    "print(\"recon_P:\",recon_P)"
   ]
  },
  {
   "cell_type": "code",
   "execution_count": 273,
   "metadata": {},
   "outputs": [
    {
     "name": "stdout",
     "output_type": "stream",
     "text": [
      "Normalized P: [[ 3.16571712e+00  3.94842772e-01 -1.41645622e+00  3.65325182e+02]\n",
      " [ 1.28677766e+00 -2.90467263e+00  1.17855035e+00  5.95068478e+02]\n",
      " [ 2.27417778e-03  7.94670777e-04  2.34089530e-03  1.00000000e+00]]\n",
      "Normalized recon_P: [[ 3.16571712e+00  3.94842772e-01 -1.41645622e+00  3.65325182e+02]\n",
      " [ 1.28677766e+00 -2.90467263e+00  1.17855035e+00  5.95068478e+02]\n",
      " [ 2.27417778e-03  7.94670777e-04  2.34089530e-03  1.00000000e+00]]\n"
     ]
    }
   ],
   "source": [
    "# Normalize the matrices\n",
    "P_norm = P / P[2, 3]\n",
    "recon_P_norm = recon_P / recon_P[2, 3]\n",
    "\n",
    "# Compare the matrices\n",
    "print('Normalized P:', P_norm)\n",
    "print('Normalized recon_P:', recon_P_norm)"
   ]
  },
  {
   "cell_type": "code",
   "execution_count": 277,
   "metadata": {},
   "outputs": [
    {
     "name": "stdout",
     "output_type": "stream",
     "text": [
      "Yes\n"
     ]
    }
   ],
   "source": [
    "if np.allclose(P_norm, recon_P_norm):\n",
    "    print(\"Yes\")\n",
    "else:\n",
    "    print(\"No\")\n"
   ]
  }
 ],
 "metadata": {
  "kernelspec": {
   "display_name": "Python 3",
   "language": "python",
   "name": "python3"
  },
  "language_info": {
   "codemirror_mode": {
    "name": "ipython",
    "version": 3
   },
   "file_extension": ".py",
   "mimetype": "text/x-python",
   "name": "python",
   "nbconvert_exporter": "python",
   "pygments_lexer": "ipython3",
   "version": "3.8.8"
  },
  "vscode": {
   "interpreter": {
    "hash": "aee8b7b246df8f9039afb4144a1f6fd8d2ca17a180786b69acc140d282b71a49"
   }
  }
 },
 "nbformat": 4,
 "nbformat_minor": 4
}
